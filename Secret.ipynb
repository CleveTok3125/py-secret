{
  "nbformat": 4,
  "nbformat_minor": 0,
  "metadata": {
    "colab": {
      "provenance": [],
      "authorship_tag": "ABX9TyOQfS2USAOY5jTxIVmPbCBU"
    },
    "kernelspec": {
      "name": "python3",
      "display_name": "Python 3"
    },
    "language_info": {
      "name": "python"
    }
  },
  "cells": [
    {
      "cell_type": "code",
      "source": [
        "# @title Run { vertical-output: true, display-mode: \"form\" }\n",
        "Key = \"\" # @param {type:\"string\"}\n",
        "Messages = \"\" # @param {type:\"string\"}\n",
        "Character_Sets = 256 # @param {type:\"integer\"}\n",
        "Mode = \"encrypt\" # @param [\"encrypt\", \"decrypt\"]\n",
        "loop = 0 # @param {type:\"integer\"}\n",
        "\n",
        "if Key == \"\":\n",
        "  import base64, os\n",
        "  Key = base64.urlsafe_b64encode(os.urandom(16)).decode()\n",
        "\n",
        "import requests\n",
        "open('pysecret.py', 'wb').write(requests.get(\"https://raw.githubusercontent.com/CleveTok3125/py-secret/main/py-secret.py\").content)\n",
        "print(\"\\r\", end=\"\\r\")\n",
        "from pysecret import *\n",
        "for i in range(loop+1):\n",
        "  if Mode == \"encrypt\":\n",
        "    Messages = secret.encrypt(Messages, Key, Character_Sets)\n",
        "  if Mode == \"decrypt\":\n",
        "    Messages = secret.decrypt(Messages, Key, Character_Sets)\n",
        "print(\"Key: \" + Key + \"\\nMessages: \" + Messages)"
      ],
      "metadata": {
        "id": "eFLrc0fmi-XV"
      },
      "execution_count": null,
      "outputs": []
    }
  ]
}