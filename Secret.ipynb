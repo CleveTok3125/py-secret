{
  "nbformat": 4,
  "nbformat_minor": 0,
  "metadata": {
    "colab": {
      "provenance": [],
      "authorship_tag": "ABX9TyOQfS2USAOY5jTxIVmPbCBU",
      "include_colab_link": true
    },
    "kernelspec": {
      "name": "python3",
      "display_name": "Python 3"
    },
    "language_info": {
      "name": "python"
    }
  },
  "cells": [
    {
      "cell_type": "markdown",
      "metadata": {
        "id": "view-in-github",
        "colab_type": "text"
      },
      "source": [
        "<a href=\"https://colab.research.google.com/github/CleveTok3125/py-secret/blob/main/Secret.ipynb\" target=\"_parent\"><img src=\"https://colab.research.google.com/assets/colab-badge.svg\" alt=\"Open In Colab\"/></a>"
      ]
    },
    {
      "cell_type": "code",
      "source": [
        "# @title Run { vertical-output: true, display-mode: \"form\" }\n",
        "Key = \"\" # @param {type:\"string\"}\n",
        "Messages = \"\" # @param {type:\"string\"}\n",
        "Character_Sets = 256 # @param {type:\"integer\"}\n",
        "Mode = \"encrypt\" # @param [\"encrypt\", \"decrypt\"]\n",
        "loop = 0 # @param {type:\"integer\"}\n",
        "\n",
        "if Key == \"\":\n",
        "  import base64, os\n",
        "  Key = base64.urlsafe_b64encode(os.urandom(16)).decode()\n",
        "\n",
        "import requests\n",
        "open('pysecret.py', 'wb').write(requests.get(\"https://raw.githubusercontent.com/CleveTok3125/py-secret/main/py-secret.py\").content)\n",
        "print(\"\\r\", end=\"\\r\")\n",
        "from pysecret import *\n",
        "for i in range(loop+1):\n",
        "  if Mode == \"encrypt\":\n",
        "    Messages = secret.encrypt(Messages, Key, Character_Sets)\n",
        "  if Mode == \"decrypt\":\n",
        "    Messages = secret.decrypt(Messages, Key, Character_Sets)\n",
        "print(\"Key: \" + Key + \"\\nMessages: \" + Messages)"
      ],
      "metadata": {
        "id": "eFLrc0fmi-XV"
      },
      "execution_count": null,
      "outputs": []
    }
  ]
}