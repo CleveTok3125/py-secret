{
  "nbformat": 4,
  "nbformat_minor": 0,
  "metadata": {
    "colab": {
      "provenance": [],
      "authorship_tag": "ABX9TyP3AJTGBTZ0ZpBFJORn4tLt"
    },
    "kernelspec": {
      "name": "python3",
      "display_name": "Python 3"
    },
    "language_info": {
      "name": "python"
    }
  },
  "cells": [
    {
      "cell_type": "code",
      "source": [
        "# @title Run { vertical-output: true, display-mode: \"form\" }\n",
        "Key = \"\" # @param {type:\"string\"}\n",
        "Messages = \"\" # @param {type:\"string\"}\n",
        "Character_Sets = 256 # @param {type:\"integer\"}\n",
        "Mode = \"encrypt\" # @param [\"encrypt\", \"decrypt\"]\n",
        "\n",
        "import requests\n",
        "open('pysecret.py', 'wb').write(requests.get(\"https://raw.githubusercontent.com/CleveTok3125/py-secret/main/py-secret.py\").content)\n",
        "print(\"\\r\", end=\"\\r\")\n",
        "from pysecret import *\n",
        "if Mode == \"encrypt\":\n",
        "  ans = secret.encrypt(Messages, Key, Character_Sets)\n",
        "if Mode == \"decrypt\":\n",
        "  ans = secret.decrypt(Messages, Key, Character_Sets)\n",
        "print(\"Key: \" + Key + \"\\nMessages: \" + ans)"
      ],
      "metadata": {
        "id": "eFLrc0fmi-XV"
      },
      "execution_count": null,
      "outputs": []
    }
  ]
}